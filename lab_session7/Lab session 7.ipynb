{
 "cells": [
  {
   "cell_type": "markdown",
   "metadata": {},
   "source": [
    "# Lab session 7\n",
    "\n",
    "In this notebook, we'll be building a vanilla DQN, a DQN with experience replay, a DQN with target networks. \n",
    "### What is DQN?\n",
    "\n",
    "DQN is the first deep reinforcement learning method proposed by DeepMind, it overcomes unstable learning by mainly 4 techniques:\n",
    ">* Experience Replay.\n",
    "* Target Network.\n",
    "* Clipping Rewards.\n",
    "* Skipping Frames. \n",
    "\n",
    "To keep this lab session in time, instead of using gym atari we'll work with classic cart pole environment.\n",
    "<img src='assets/cartpole.gif' width=50% />\n",
    "\n",
    "#### Note:-\n",
    "Apart from submitting code, please add your answer to questions mentioned in lab session.\n",
    "Operation on cuda are fast. Try keeping all your operations on it.\n"
   ]
  },
  {
   "cell_type": "markdown",
   "metadata": {},
   "source": [
    "--------"
   ]
  },
  {
   "cell_type": "markdown",
   "metadata": {},
   "source": [
    "#### Import"
   ]
  },
  {
   "cell_type": "code",
   "execution_count": 2,
   "metadata": {
    "pycharm": {
     "is_executing": false
    }
   },
   "outputs": [],
   "source": [
    "import math, random\n",
    "\n",
    "import cv2\n",
    "import gym\n",
    "import numpy as np\n",
    "from collections import deque\n",
    "\n",
    "\n",
    "import torch\n",
    "import torch.nn as nn\n",
    "import torch.optim as optim\n",
    "import torch.autograd as autograd \n",
    "import torch.nn.functional as F"
   ]
  },
  {
   "cell_type": "code",
   "execution_count": 3,
   "metadata": {
    "pycharm": {
     "is_executing": false
    }
   },
   "outputs": [],
   "source": [
    "from IPython.display import clear_output, display\n",
    "import matplotlib.pyplot as plt\n",
    "%matplotlib inline"
   ]
  },
  {
   "cell_type": "markdown",
   "metadata": {},
   "source": [
    "**Note** *test()* function is a function to watch your agent play the game after training. Call the following function by passing your trained model and environment name as parameter.\n",
    "\n",
    "It returns a list of rewards."
   ]
  },
  {
   "cell_type": "code",
   "execution_count": 4,
   "metadata": {
    "pycharm": {
     "is_executing": false
    }
   },
   "outputs": [],
   "source": [
    "def test(env_id, model):\n",
    "    \"\"\"\n",
    "    Method to play 30 games with trained agent.\n",
    "    \n",
    "    Parameters\n",
    "    ----------\n",
    "    env_id: str\n",
    "        name of your environment\n",
    "    model: model\n",
    "    \n",
    "    Returns\n",
    "    all_test_rewards: list\n",
    "        list of rewards collected in 30 episodes.\n",
    "    \"\"\"\n",
    "    env = gym.make(env_id)\n",
    "    all_test_rewards = list()\n",
    "    episode_reward = 0\n",
    "    episode_count = 0\n",
    "    state = env.reset()\n",
    "    # plt.figure(figsize=(9,9))\n",
    "    # img = plt.imshow(env.render(mode='rgb_array')) # only call this once\n",
    "    step = 0\n",
    "    while True:\n",
    "        if episode_count == 30:\n",
    "            break\n",
    "        # img.set_data(env.render(mode='rgb_array')) # just update the data\n",
    "        # display(plt.gcf())\n",
    "        # clear_output(wait=True)\n",
    "        action = model.act(state,-1) # -ve epsilon so it always choses the policy it learned rather than random action\n",
    "        next_state, reward, done, _ = env.step(action)\n",
    "        state = next_state\n",
    "        if done or step == 50000:\n",
    "            state = env.reset()\n",
    "            all_test_rewards.append(episode_reward)\n",
    "            # print(episode_reward)\n",
    "            episode_reward = 0\n",
    "            episode_count += 1\n",
    "        else:\n",
    "            episode_reward += reward\n",
    "        step += 1\n",
    "    print(\"The mean score of your agent: \", np.mean(all_test_rewards))\n",
    "    env.close()\n",
    "    return all_test_rewards"
   ]
  },
  {
   "cell_type": "markdown",
   "metadata": {},
   "source": [
    "#### Set cuda"
   ]
  },
  {
   "cell_type": "code",
   "execution_count": 5,
   "metadata": {
    "pycharm": {
     "is_executing": false
    }
   },
   "outputs": [],
   "source": [
    "USE_CUDA = torch.cuda.is_available()\n",
    "Variable = lambda *args, **kwargs: autograd.Variable(*args, **kwargs).cuda() if USE_CUDA else autograd.Variable(*args, **kwargs)"
   ]
  },
  {
   "cell_type": "markdown",
   "metadata": {},
   "source": [
    "#### Cart Pole Environment"
   ]
  },
  {
   "cell_type": "code",
   "execution_count": 6,
   "metadata": {
    "pycharm": {
     "is_executing": false
    }
   },
   "outputs": [],
   "source": [
    "env_id = \"CartPole-v0\"\n",
    "env = gym.make(env_id)"
   ]
  },
  {
   "cell_type": "markdown",
   "metadata": {},
   "source": [
    "#### Epsilon greedy exploration\n",
    "I'm sure you know the importance of epsilon. \n",
    "we are gonna plot the decay and you can see how it will behave for 10000 steps"
   ]
  },
  {
   "cell_type": "code",
   "execution_count": 7,
   "metadata": {
    "pycharm": {
     "is_executing": false
    }
   },
   "outputs": [],
   "source": [
    "epsilon_start = 1.0\n",
    "epsilon_final = 0.01\n",
    "epsilon_decay = 500\n",
    "\n",
    "epsilon_by_frame = lambda frame_idx: epsilon_final + (epsilon_start - epsilon_final) * math.exp(-1. * frame_idx / epsilon_decay)"
   ]
  },
  {
   "cell_type": "code",
   "execution_count": 8,
   "metadata": {
    "pycharm": {
     "is_executing": false
    }
   },
   "outputs": [
    {
     "data": {
      "text/plain": [
       "[<matplotlib.lines.Line2D at 0x25537b9d4e0>]"
      ]
     },
     "execution_count": 8,
     "metadata": {},
     "output_type": "execute_result"
    },
    {
     "data": {
      "image/png": "[encoded data removed]",
      "text/plain": [
       "<Figure size 432x288 with 1 Axes>"
      ]
     },
     "metadata": {
      "needs_background": "light"
     },
     "output_type": "display_data"
    }
   ],
   "source": [
    "plt.plot([epsilon_by_frame(i) for i in range(10000)])"
   ]
  },
  {
   "cell_type": "markdown",
   "metadata": {},
   "source": [
    "### Deep Q-Network"
   ]
  },
  {
   "cell_type": "code",
   "execution_count": 9,
   "metadata": {
    "pycharm": {
     "is_executing": false
    }
   },
   "outputs": [],
   "source": [
    "class DQN(nn.Module):\n",
    "    def __init__(self, num_inputs, num_actions):\n",
    "        super(DQN, self).__init__()\n",
    "        self.num_inputs = num_inputs\n",
    "        self.num_actions = num_actions\n",
    "        self.fc1 = nn.Linear(num_inputs, 128)\n",
    "        self.fc2 = nn.Linear(128, 128)\n",
    "        self.fc3 = nn.Linear(128, self.num_actions)\n",
    "        \n",
    "    def forward(self, x):\n",
    "        x = self.fc1(x)\n",
    "        x = F.relu(x)\n",
    "        x = self.fc2(x)\n",
    "        x = F.relu(x)\n",
    "        x = self.fc3(x)\n",
    "        return x\n",
    "    \n",
    "    def act(self, state, epsilon):\n",
    "        if random.random() > epsilon:\n",
    "            with torch.no_grad():\n",
    "                state   = Variable(torch.FloatTensor(state).unsqueeze(0))\n",
    "            q_value = self.forward(state)\n",
    "            action  = q_value.max(1)[1].data[0].cpu().numpy().tolist()\n",
    "        else:\n",
    "            action = random.randrange(self.num_actions)\n",
    "        return action"
   ]
  },
  {
   "cell_type": "code",
   "execution_count": 10,
   "metadata": {
    "pycharm": {
     "is_executing": false
    }
   },
   "outputs": [],
   "source": [
    "model_base = DQN(env.observation_space.shape[0], env.action_space.n)\n",
    "\n",
    "if USE_CUDA:\n",
    "    model_base = model_base.cuda()\n",
    "    \n",
    "optimizer = optim.Adam(model_base.parameters())"
   ]
  },
  {
   "cell_type": "markdown",
   "metadata": {},
   "source": [
    "#### Computing Temporal Difference Loss"
   ]
  },
  {
   "cell_type": "code",
   "execution_count": 11,
   "metadata": {
    "pycharm": {
     "is_executing": false
    }
   },
   "outputs": [],
   "source": [
    "def compute_td_loss_dqn(state, action, reward, next_state, done):\n",
    "    \"\"\"\n",
    "    Parameters\n",
    "    ----------\n",
    "    state: numpy array\n",
    "        current state of env\n",
    "    action: int\n",
    "        action you take in env\n",
    "    reward: int\n",
    "        reward for the action\n",
    "    next_state: numpy array\n",
    "        next state given current state and action\n",
    "    done: bool\n",
    "        if it's end of the episode.\n",
    "    \n",
    "    Returns\n",
    "    -------\n",
    "    loss: 1d-tensor\n",
    "\n",
    "    \"\"\"\n",
    "    # converting variables to tensors\n",
    "    state = Variable(torch.FloatTensor(np.float32(state)))\n",
    "\n",
    "    with torch.no_grad():\n",
    "        next_state = Variable(torch.FloatTensor(np.float32(next_state)))\n",
    "        \n",
    "    action = Variable(torch.from_numpy(np.array(action)))\n",
    "\n",
    "    reward = Variable(torch.from_numpy(np.array(reward)))\n",
    "    \n",
    "    done = Variable(torch.from_numpy(np.array(int(done))))\n",
    "    \n",
    "    # TODO:- predict q_values\n",
    "    q_values = model_base.forward(state)\n",
    "    \n",
    "    # TODO:- predict q_values of next state\n",
    "    next_q_values = model_base.forward(next_state)\n",
    "    \n",
    "    # TODO:- get corresponding action's q-value from predicted q-values\n",
    "    # hint:- there is a very optimal and good way to do this tensor operations check (gather)\n",
    "    q_value = q_values.gather(0, action.long())\n",
    "    \n",
    "    next_q_value = next_q_values.max(0)[0]\n",
    "    \n",
    "    # TODO:- calculate expected q value based on bellman eq.\n",
    "    expected_q_value = reward + gamma * next_q_value * (1 - done)\n",
    "    \n",
    "    # TODO:- calculate MSE for back propagation of loss\n",
    "    # Hint:- you can't do an operation between a tensor and int. keep an eye on your variable type ;).\n",
    "    loss = F.mse_loss(q_value, expected_q_value)\n",
    "    \n",
    "    # back propagating your loss\n",
    "    optimizer.zero_grad()\n",
    "    loss.backward()\n",
    "    optimizer.step()\n",
    "    \n",
    "    return loss"
   ]
  },
  {
   "cell_type": "code",
   "execution_count": 12,
   "metadata": {
    "pycharm": {
     "is_executing": false
    }
   },
   "outputs": [],
   "source": [
    "def plot(frame_idx, rewards, losses):\n",
    "    \"\"\"\n",
    "    Parameters\n",
    "    ----------\n",
    "    frame_idx: int\n",
    "        frame id\n",
    "    rewards: int\n",
    "        accumulated reward\n",
    "    losses: int\n",
    "        loss\n",
    "    \"\"\"\n",
    "    clear_output(True)\n",
    "    plt.figure(figsize=(20,5))\n",
    "    plt.subplot(131)\n",
    "    plt.title('frame %s. reward: %s' % (frame_idx, np.mean(rewards[-10:])))\n",
    "    plt.plot(rewards)\n",
    "    plt.subplot(132)\n",
    "    plt.title('loss')\n",
    "    plt.plot(losses)\n",
    "    plt.show()"
   ]
  },
  {
   "cell_type": "code",
   "execution_count": 13,
   "metadata": {
    "pycharm": {
     "is_executing": false
    },
    "scrolled": false
   },
   "outputs": [
    {
     "data": {
      "image/png": "[encoded data removed]",
      "text/plain": [
       "<Figure size 1440x360 with 2 Axes>"
      ]
     },
     "metadata": {
      "needs_background": "light"
     },
     "output_type": "display_data"
    }
   ],
   "source": [
    "num_frames = 20000\n",
    "gamma      = 0.99\n",
    "\n",
    "losses = []\n",
    "all_rewards = []\n",
    "episode_reward = 0\n",
    "\n",
    "state = env.reset()\n",
    "for frame_idx in range(1, num_frames + 1):\n",
    "    epsilon = epsilon_by_frame(frame_idx)\n",
    "    action = model_base.act(state, epsilon)\n",
    "    \n",
    "    next_state, reward, done, _ = env.step(action)\n",
    "    \n",
    "    state = next_state\n",
    "    episode_reward += reward\n",
    "    \n",
    "    if done:\n",
    "        state = env.reset()\n",
    "        all_rewards.append(episode_reward)\n",
    "        episode_reward = 0\n",
    "        \n",
    "    \n",
    "    loss = compute_td_loss_dqn(state, action, reward, next_state, done)\n",
    "    losses.append(loss.item())\n",
    "        \n",
    "    if frame_idx % 200 == 0:\n",
    "        plot(frame_idx, all_rewards, losses)"
   ]
  },
  {
   "cell_type": "markdown",
   "metadata": {},
   "source": [
    "The plot above is generated using a deep Q network. Which means that we will try to derive a policy based on the difference between the current Q function and the target Q function. This implementation has no notion of a buffer, and will just process sequential frames, with the big issue that these frames are highly corelated where we actually want our data to be independent. Furthermore, this model will be trained with a target model that is constantly derived from the current model. This creates a correlation between the current model and the target model, which is not good, but this also makes us chase a moving target, which is not desired either.\n",
    "\n",
    "When looking at the plot, we can immediately see that this approach does not work. There are a few peaks, but they are are rare, and there is nothing that is learned from them, as all surounding episodes have low averages.\n",
    "\n",
    "No hyper parameters were tuned to improve the quality of this one, as it clearly does not perform good as is. The high correlation between the frames will never allow this to learn properly and it seems futile to put much effort into fine tuning."
   ]
  },
  {
   "cell_type": "markdown",
   "metadata": {},
   "source": [
    "### Deep Q-Network with Replay buffer"
   ]
  },
  {
   "cell_type": "markdown",
   "metadata": {},
   "source": [
    "#### Experience Replay\n",
    "\n",
    "Experience replay will help us to handle two things:\n",
    "\n",
    "Avoid forgetting previous experiences.\n",
    "Reduce correlations between experiences.\n",
    "\n",
    "> * **Avoid forgetting previous experiences** : With using same network to generise we run into a problem. Since the environment is sequential we see new state, take action and overwrite the weights of our previous experience. Since all the weights are shared they form a high correlation between actions and states. We can greatly stablise our problem if we keep our previous experiences and learn from them as well. In environments like atari where your player dies and start episode again, training on these previous experiences come in handy as now agent still remember from previous experiences.\n",
    "> * **Reduce correlations between experiences**: We have another problem — we know that every action affects the next state. This outputs a sequence of experience tuples which can be highly correlated.\n",
    "If we train the network in sequential order, we risk our agent being influenced by the effect of this correlation.\n",
    "By sampling from the replay buffer at random, we can break this correlation. This prevents action values from oscillating or diverging catastrophically.\n",
    "\n"
   ]
  },
  {
   "cell_type": "code",
   "execution_count": 14,
   "metadata": {
    "pycharm": {
     "is_executing": false
    }
   },
   "outputs": [],
   "source": [
    "model_batch = DQN(env.observation_space.shape[0], env.action_space.n)\n",
    "\n",
    "if USE_CUDA:\n",
    "    model_batch = model_batch.cuda()\n",
    "    \n",
    "optimizer = optim.Adam(model_batch.parameters())"
   ]
  },
  {
   "cell_type": "markdown",
   "metadata": {},
   "source": [
    "#### Replay Buffer"
   ]
  },
  {
   "cell_type": "code",
   "execution_count": 15,
   "metadata": {
    "pycharm": {
     "is_executing": false
    }
   },
   "outputs": [],
   "source": [
    "class ReplayBuffer(object):\n",
    "    def __init__(self, capacity):\n",
    "        \"\"\"\n",
    "        Parameters\n",
    "        ----------\n",
    "        capacity: int\n",
    "            the length of your buffer\n",
    "        \"\"\"\n",
    "        self.buffer = deque(maxlen=capacity)\n",
    "    \n",
    "    def push(self, state, action, reward, next_state, done):\n",
    "        state      = np.expand_dims(state, 0)\n",
    "        next_state = np.expand_dims(next_state, 0)\n",
    "            \n",
    "        self.buffer.append((state, action, reward, next_state, done))\n",
    "    \n",
    "    def sample(self, batch_size):\n",
    "        \"\"\"\n",
    "        batch_size: int\n",
    "        \"\"\"\n",
    "        state, action, reward, next_state, done = zip(*random.sample(self.buffer, batch_size))\n",
    "        return np.concatenate(state), action, reward, np.concatenate(next_state), done\n",
    "    \n",
    "    def __len__(self):\n",
    "        return len(self.buffer)"
   ]
  },
  {
   "cell_type": "markdown",
   "metadata": {},
   "source": [
    "#### Compute TD loss\n",
    "Reason we are redefining it is because with replay buffer now you are gonna save your experience, gather it from your replay buffer and train model on it again. \n",
    "<br>\n",
    "Now since it's a batch operation you have added an extra axis and you'll have operations in different axis."
   ]
  },
  {
   "cell_type": "code",
   "execution_count": 16,
   "metadata": {
    "pycharm": {
     "is_executing": false
    }
   },
   "outputs": [],
   "source": [
    "def compute_td_loss_batch(batch_size):\n",
    "    \"\"\"\n",
    "    Parameters\n",
    "    ----------\n",
    "    batch_size: int\n",
    "    \n",
    "    Returns\n",
    "    -------\n",
    "    loss: tensor\n",
    "    \"\"\"\n",
    "    state, action, reward, next_state, done = replay_buffer.sample(batch_size)\n",
    "    \n",
    "    state      = Variable(torch.FloatTensor(np.float32(state)))\n",
    "    \n",
    "    with torch.no_grad():\n",
    "        next_state = Variable(torch.FloatTensor(np.float32(next_state)))\n",
    "        \n",
    "    action     = Variable(torch.LongTensor(action))\n",
    "    reward     = Variable(torch.FloatTensor(reward))\n",
    "    done       = Variable(torch.FloatTensor(done))\n",
    "    \n",
    "    # TODO: predict q_values. \n",
    "    # Hint:- remeber it's a batch prediction so there will be extra dimension.\n",
    "    q_values = model_batch.forward(state)\n",
    "    \n",
    "    # TODO: predict next state's q_values.\n",
    "    next_q_values = model_batch.forward(next_state)\n",
    "\n",
    "    # TODO: get the q_values based on actions you took.\n",
    "    #Hint:- the logic should be same as previous one but remember there is an extra dimension.\n",
    "    q_value = q_values.gather(1, action.unsqueeze(1)).squeeze(1)\n",
    "    \n",
    "    next_q_value = next_q_values.max(1)[0]\n",
    "    \n",
    "    # TODO: calculate expected q value based on bellman eq.\n",
    "    expected_q_value = (reward + gamma * next_q_value * (1 - done))\n",
    "    \n",
    "    # TODO: calculate MSE\n",
    "    loss = F.mse_loss(q_value, expected_q_value)\n",
    "    if expected_q_value.shape != q_value.shape:\n",
    "        print(\"ERROR\")\n",
    "        \n",
    "    optimizer.zero_grad()\n",
    "    loss.backward()\n",
    "    optimizer.step()\n",
    "    \n",
    "    return loss"
   ]
  },
  {
   "cell_type": "markdown",
   "metadata": {},
   "source": [
    "As mentioned previously, DQN itself is not stable but we stablise it by multiple methods. Replay buffer is one of them. <br>\n",
    "If your performance of DQN with replay buffer is same as previous, Try running it couple of times"
   ]
  },
  {
   "cell_type": "code",
   "execution_count": 21,
   "metadata": {
    "pycharm": {
     "is_executing": false
    }
   },
   "outputs": [
    {
     "data": {
      "image/png": "[encoded data removed]",
      "text/plain": [
       "<Figure size 1440x360 with 2 Axes>"
      ]
     },
     "metadata": {
      "needs_background": "light"
     },
     "output_type": "display_data"
    }
   ],
   "source": [
    "num_frames = 50000\n",
    "batch_size = 64\n",
    "gamma      = 0.99\n",
    "replay_buffer = ReplayBuffer(1000)\n",
    "losses = []\n",
    "all_rewards = []\n",
    "episode_reward = 0\n",
    "count = 0\n",
    "state = env.reset()\n",
    "for frame_idx in range(1, num_frames + 1):\n",
    "    epsilon = epsilon_by_frame(frame_idx)\n",
    "    action = model_batch.act(state, epsilon)\n",
    "    next_state, reward, done, _ = env.step(action)\n",
    "    replay_buffer.push(state, action, reward, next_state, done)\n",
    "    \n",
    "    state = next_state\n",
    "    episode_reward += reward\n",
    "    \n",
    "    if done:\n",
    "        state = env.reset()\n",
    "        all_rewards.append(episode_reward)\n",
    "        episode_reward = 0\n",
    "        \n",
    "    if len(replay_buffer) > batch_size:\n",
    "        loss = compute_td_loss_batch(batch_size)\n",
    "        loss = loss.data.cpu().numpy().tolist()\n",
    "        losses.append(loss)\n",
    "        \n",
    "    if frame_idx % 200 == 0:\n",
    "        count = plot(frame_idx, all_rewards, losses)"
   ]
  },
  {
   "cell_type": "markdown",
   "metadata": {},
   "source": [
    "This network has an added buffer from which we can randomly sample data. This fixes the issues describe in the previous model evaluation, being the correlation between consequtive updates. By allowing the data to be randomly sampled, we make the data distrubtion truly uniform.\n",
    "\n",
    "This plot shows a massive improvement compared to the previous evaluation. We can clearly see that the model is not entirely stable, due to the chance to sample from lower reward episodes, but the majority of the rewards are high. If we would increase the number of frames even further, I still do not think that the model would stabilise, since the low reward frames will always remain.\n",
    "\n",
    "In terms of fine tuning, I tried multiple buffer sizes in the range of 16 to 64. At 16 I saw that the rewards became even more inconsistent, as it were not enough samples to properly base itself on, at 64 I saw a better performace. I also increased the number of frames to check whether or not the evaluation would eventualy converge to a constant 200 reward, but it did not, nor do I think it every will. The used number of frames was 50000."
   ]
  },
  {
   "cell_type": "markdown",
   "metadata": {},
   "source": [
    "### DQN with target network"
   ]
  },
  {
   "cell_type": "markdown",
   "metadata": {},
   "source": [
    "We saw in the *Deep Q Learning* that, when we want to calculate the TD error (aka the loss), we calculate the difference between the TD target (Q_target) and the current Q value (estimation of Q). <br>\n",
    "\n",
    "But **we don’t have any idea of the real TD target**. We need to estimate it. Using the **Bellman equation**, we saw that the TD target is just the reward of taking that action at that state plus the discounted highest Q value for the next state. <br>\n",
    "\n",
    "However, the problem is that we using the same parameters (weights) for estimating the target and the Q value. As a consequence, there is a big correlation between the TD target and the parameters (w) we are changing.\n",
    "\n",
    "Therefore, it means that at every step of training, our Q values shift but also the target value shifts. So, we’re getting closer to our target but the target is also moving. It’s like chasing a moving target! This lead to a big oscillation in training.\n",
    "\n",
    "To avoid this oscillation instead, we can use the idea of fixed Q-targets:\n",
    "\n",
    "> * Using a separate network with a fixed parameter (we'll call it Target network) for estimating the TD target. <br>\n",
    "while we train our DQN network.\n",
    "> * After some number of steps, we copy the parameters from our DQN network to update the target network.\n",
    "\n",
    "We’ll have more stable learning because the target function stays fixed for a while.\n",
    "\n",
    "In current implementation you won't be using Replay buffer, just *Target network*."
   ]
  },
  {
   "cell_type": "code",
   "execution_count": 22,
   "metadata": {
    "pycharm": {
     "is_executing": false
    }
   },
   "outputs": [],
   "source": [
    "current_model_target = DQN(env.observation_space.shape[0], env.action_space.n)\n",
    "target_model_target  = DQN(env.observation_space.shape[0], env.action_space.n)\n",
    "\n",
    "if USE_CUDA:\n",
    "    current_model_target = current_model_target.cuda()\n",
    "    target_model_target  = target_model_target.cuda()\n",
    "    \n",
    "optimizer = optim.Adam(current_model_target.parameters())"
   ]
  },
  {
   "cell_type": "markdown",
   "metadata": {},
   "source": [
    "#### Sync model"
   ]
  },
  {
   "cell_type": "code",
   "execution_count": 23,
   "metadata": {
    "pycharm": {
     "is_executing": false
    }
   },
   "outputs": [],
   "source": [
    "def update_target(current_model, target_model):\n",
    "    \"\"\"\n",
    "    Parameters\n",
    "    ----------\n",
    "    current_model: model\n",
    "    \n",
    "    target_model: model\n",
    "    \"\"\"\n",
    "    target_model.load_state_dict(current_model.state_dict())"
   ]
  },
  {
   "cell_type": "code",
   "execution_count": 24,
   "metadata": {
    "pycharm": {
     "is_executing": false
    }
   },
   "outputs": [],
   "source": [
    "# initialise network as same as they may have random values in their weights\n",
    "update_target(current_model_target, target_model_target)"
   ]
  },
  {
   "cell_type": "markdown",
   "metadata": {},
   "source": [
    "#### Compute TD loss"
   ]
  },
  {
   "cell_type": "code",
   "execution_count": 25,
   "metadata": {
    "pycharm": {
     "is_executing": false
    }
   },
   "outputs": [],
   "source": [
    "def compute_td_loss_target(state, action, reward, next_state, done):\n",
    "    \n",
    "    state      = Variable(torch.FloatTensor(np.float32(state)))\n",
    "    with torch.no_grad():\n",
    "        next_state = Variable(torch.FloatTensor(np.float32(next_state)))\n",
    "    action  = Variable(torch.from_numpy(np.array(action)))\n",
    "    reward  = Variable(torch.from_numpy(np.array(reward)))\n",
    "    done = Variable(torch.from_numpy(np.array(int(done))))\n",
    "    \n",
    "    #TODO:- predict q_values.\n",
    "    q_values = current_model_target.forward(state)\n",
    "    \n",
    "    # TODO:- predict next states's q_values based on target.\n",
    "    next_q_values = target_model_target.forward(next_state)\n",
    "    \n",
    "    # TODO:- Get q-values for actions agent took.\n",
    "    q_value = q_values.gather(0, action.long())\n",
    "    \n",
    "    # TODO:- gather next q_values of target model.\n",
    "    # Hint:- next_q_values = next_q_state_values[maximum of next_q_values]\n",
    "    next_q_value = next_q_values.max(0)[0]\n",
    "    \n",
    "    # TODO:- calculate expected q value based on bellman eq.\n",
    "    expected_q_value = reward + gamma * next_q_value * (1 - done)\n",
    "\n",
    "    # TODO:- MSE\n",
    "    loss = F.mse_loss(expected_q_value, q_value)\n",
    "        \n",
    "    optimizer.zero_grad()\n",
    "    loss.backward()\n",
    "    optimizer.step()\n",
    "    \n",
    "    return loss"
   ]
  },
  {
   "cell_type": "code",
   "execution_count": 26,
   "metadata": {
    "pycharm": {
     "is_executing": false
    }
   },
   "outputs": [
    {
     "data": {
      "image/png": "[encoded data removed]",
      "text/plain": [
       "<Figure size 1440x360 with 2 Axes>"
      ]
     },
     "metadata": {
      "needs_background": "light"
     },
     "output_type": "display_data"
    }
   ],
   "source": [
    "num_frames = 20000\n",
    "batch_size = 32\n",
    "gamma      = 0.99\n",
    "\n",
    "losses = []\n",
    "all_rewards = []\n",
    "episode_reward = 0\n",
    "\n",
    "state = env.reset()\n",
    "for frame_idx in range(1, num_frames + 1):\n",
    "    epsilon = epsilon_by_frame(frame_idx)\n",
    "    action = current_model_target.act(state, epsilon)\n",
    "    \n",
    "    next_state, reward, done, _ = env.step(action)\n",
    "    \n",
    "    state = next_state\n",
    "    episode_reward += reward\n",
    "    \n",
    "    if done:\n",
    "        state = env.reset()\n",
    "        all_rewards.append(episode_reward)\n",
    "        episode_reward = 0\n",
    "        \n",
    "    loss = compute_td_loss_target(state, action, reward, next_state, done)\n",
    "    losses.append(loss.data)\n",
    "        \n",
    "    if frame_idx % 200 == 0:\n",
    "        plot(frame_idx, all_rewards, losses)\n",
    "        \n",
    "    if frame_idx % 100 == 0:\n",
    "        update_target(current_model_target, target_model_target)\n",
    "        "
   ]
  },
  {
   "cell_type": "markdown",
   "metadata": {},
   "source": [
    "This network makes use of a target model that will only update every x frames (by default every 100 frames). This will allow us to chase a stationary target compared to the constantly moving target we had earlier. By only changing it every x frames, we will also avoid the potential issue where we update the target with bad decisions, made due to high correlation (as there is no replay buffer in this model).\n",
    "\n",
    "As we can see there is an improvement compared to the first model, as there is still corelation, but the correlation will not affect the target model as much. That being said, the model is nowhere near as good as the previous model was, the maximal reward was never reached, and consecutive frames will never remain on high rewards.\n",
    "\n",
    "No finetuning was done for this model. The remaining high correlation due to lack of a buffer made it improbable that this would ever give good results, and it was therefore deemed meaningless to finetune."
   ]
  },
  {
   "cell_type": "markdown",
   "metadata": {},
   "source": [
    "### DQN with target network and Replay buffer\n"
   ]
  },
  {
   "cell_type": "markdown",
   "metadata": {},
   "source": [
    "Let's try adding Replay buffer"
   ]
  },
  {
   "cell_type": "code",
   "execution_count": 27,
   "metadata": {
    "pycharm": {
     "is_executing": false
    }
   },
   "outputs": [],
   "source": [
    "current_model_dqn = DQN(env.observation_space.shape[0], env.action_space.n)\n",
    "target_model_dqn  = DQN(env.observation_space.shape[0], env.action_space.n)\n",
    "\n",
    "if USE_CUDA:\n",
    "    current_model_dqn = current_model_dqn.cuda()\n",
    "    target_model_dqn  = target_model_dqn.cuda()\n",
    "    \n",
    "optimizer = optim.Adam(current_model_dqn.parameters())\n",
    "update_target(current_model_dqn, target_model_dqn)\n",
    "replay_buffer = ReplayBuffer(1000)"
   ]
  },
  {
   "cell_type": "markdown",
   "metadata": {},
   "source": [
    "#### Compute TD loss"
   ]
  },
  {
   "cell_type": "code",
   "execution_count": 28,
   "metadata": {
    "pycharm": {
     "is_executing": false
    }
   },
   "outputs": [],
   "source": [
    "def compute_td_loss_target_batch(batch_size):\n",
    "    state, action, reward, next_state, done = replay_buffer.sample(batch_size)\n",
    "\n",
    "    state      = Variable(torch.FloatTensor(np.float32(state)))\n",
    "    next_state = Variable(torch.FloatTensor(np.float32(next_state)))\n",
    "    action     = Variable(torch.LongTensor(action))\n",
    "    reward     = Variable(torch.FloatTensor(reward))\n",
    "    done       = Variable(torch.FloatTensor(done))\n",
    "\n",
    "    # Hint:- most of the operations should be similar to previous impletations.\n",
    "    \n",
    "    #TODO:- predict q_values.\n",
    "    q_values = current_model_dqn.forward(state)\n",
    "    \n",
    "    # TODO:- predict next states's q_values based on target.\n",
    "    next_q_values = target_model_dqn.forward(next_state)\n",
    "    \n",
    "    # TODO:- Get q-values for actions agent took.\n",
    "    q_value = q_values.gather(1, action.long().unsqueeze(1)).squeeze(1)\n",
    "    \n",
    "    # TODO:- gather maximum of next q_values  \n",
    "    next_q_value = next_q_values.max(1)[0]\n",
    "    \n",
    "    # TODO:- calculate expected q value based on bellman eq.\n",
    "    expected_q_value = reward + gamma * next_q_value * (1 - done)\n",
    "      \n",
    "    # TODO MSE\n",
    "    loss = F.mse_loss(q_value, expected_q_value)\n",
    "    if expected_q_value.shape != q_value.shape:\n",
    "        print(\"ERROR\")\n",
    "        \n",
    "    optimizer.zero_grad()\n",
    "    loss.backward()\n",
    "    optimizer.step()\n",
    "    \n",
    "    return loss"
   ]
  },
  {
   "cell_type": "code",
   "execution_count": 30,
   "metadata": {
    "pycharm": {
     "is_executing": false
    }
   },
   "outputs": [
    {
     "data": {
      "image/png": "[encoded data removed]",
      "text/plain": [
       "<Figure size 1440x360 with 2 Axes>"
      ]
     },
     "metadata": {
      "needs_background": "light"
     },
     "output_type": "display_data"
    }
   ],
   "source": [
    "num_frames = 20000\n",
    "batch_size = 32\n",
    "gamma      = 0.99\n",
    "\n",
    "losses = []\n",
    "all_rewards = []\n",
    "episode_reward = 0\n",
    "\n",
    "state = env.reset()\n",
    "for frame_idx in range(1, num_frames + 1):\n",
    "    epsilon = epsilon_by_frame(frame_idx)\n",
    "    action = current_model_dqn.act(state, epsilon)\n",
    "    next_state, reward, done, _ = env.step(action)\n",
    "    replay_buffer.push(state, action, reward, next_state, done)\n",
    "    \n",
    "    state = next_state\n",
    "    episode_reward += reward\n",
    "    \n",
    "    if done:\n",
    "        state = env.reset()\n",
    "        all_rewards.append(episode_reward)\n",
    "        episode_reward = 0\n",
    "        \n",
    "    if len(replay_buffer) > batch_size:\n",
    "        loss = compute_td_loss_target_batch(batch_size)\n",
    "        losses.append(loss.data)\n",
    "        \n",
    "    if frame_idx % 200 == 0:\n",
    "        plot(frame_idx, all_rewards, losses)\n",
    "        \n",
    "    if frame_idx % 200 == 0:\n",
    "        update_target(current_model_dqn, target_model_dqn)"
   ]
  },
  {
   "cell_type": "markdown",
   "metadata": {},
   "source": [
    "DQN with target network and buffer emulates the combination of the two previous evaluations. It will make use of a target network, as well as the buffer sampling. \n",
    "\n",
    "It performs better than all previous simulations (as is expected) due to the stationary target, that gets periodically updates, and the buffer sampling. The high rewards are semi stable, and there are far more high rewards than lower ones.\n",
    "\n",
    "In terms of fine tuning, the only thing that was changed is the frequency of the target updates. I chose to halve the rate, going from once every 100 frames to once every 200 frames, and this is to combat the chance of small dips affecting the model. I chose to not alter any other hyper parameters, as the model performed fairly well as is."
   ]
  },
  {
   "cell_type": "markdown",
   "metadata": {},
   "source": [
    "### Double DQN"
   ]
  },
  {
   "cell_type": "markdown",
   "metadata": {},
   "source": [
    "The target based DQN in early stages is naive, we use the action that maximizes the Q-value[next_state]. But in the early stage, this is a noisy approximation so we tend to overestimate the Q-value.\n",
    "\n",
    "To overcome the overestimation problem we can use both the networks the local and target as we have two sets of weights, so we can cross-validate it with both sets of weights and minimize the overestimation problem.\n"
   ]
  },
  {
   "cell_type": "code",
   "execution_count": 31,
   "metadata": {
    "pycharm": {
     "is_executing": false
    }
   },
   "outputs": [],
   "source": [
    "current_model_ddqn = DQN(env.observation_space.shape[0], env.action_space.n)\n",
    "target_model_ddqn  = DQN(env.observation_space.shape[0], env.action_space.n)\n",
    "\n",
    "if USE_CUDA:\n",
    "    current_model_ddqn = current_model_ddqn.cuda()\n",
    "    target_model_ddqn  = target_model_ddqn.cuda()\n",
    "    \n",
    "optimizer = optim.Adam(current_model_ddqn.parameters())\n",
    "update_target(current_model_ddqn, target_model_ddqn)\n",
    "replay_buffer = ReplayBuffer(1000)"
   ]
  },
  {
   "cell_type": "code",
   "execution_count": 32,
   "metadata": {
    "pycharm": {
     "is_executing": false
    }
   },
   "outputs": [],
   "source": [
    "def compute_td_loss_doubleDQN(batch_size):\n",
    "    state, action, reward, next_state, done = replay_buffer.sample(batch_size)\n",
    "    \n",
    "    state      = Variable(torch.FloatTensor(np.float32(state)))\n",
    "    with torch.no_grad():\n",
    "        next_state = Variable(torch.FloatTensor(np.float32(next_state)))\n",
    "    action     = Variable(torch.LongTensor(action))\n",
    "    reward     = Variable(torch.FloatTensor(reward))\n",
    "    done       = Variable(torch.FloatTensor(done))\n",
    "    \n",
    "    # TODO:- predict current model\n",
    "    q_values = current_model_ddqn.forward(state)\n",
    "    \n",
    "    # TODO:- predict next value from current model\n",
    "    next_q_values = current_model_ddqn.forward(next_state)\n",
    "    \n",
    "    # TODO:- predict next state values from target model\n",
    "    next_q_target_values = target_model_ddqn.forward(next_state)\n",
    "    \n",
    "    # Gather only values based on action\n",
    "    q_value = q_values.gather(1, action.unsqueeze(1)).squeeze(1)\n",
    "    \n",
    "    # TODO:- calculate next state q_values that are not over estimated\n",
    "    # Hint:- next_q_value = next state q-values from target[maximum of next state q-values from current model]\n",
    "    next_q_value = next_q_target_values.gather(1, next_q_values.argmax(1).unsqueeze(1)).squeeze(1)\n",
    "    \n",
    "    # TODO:- calculate expected Q-values of future\n",
    "    expected_q_value = reward + gamma * next_q_value * (1 - done)\n",
    "      \n",
    "    \n",
    "    # TODO:- apply MSE\n",
    "    loss = F.mse_loss(q_value, expected_q_value)\n",
    "        \n",
    "    optimizer.zero_grad()\n",
    "    loss.backward()\n",
    "    optimizer.step()\n",
    "    \n",
    "    return loss"
   ]
  },
  {
   "cell_type": "code",
   "execution_count": 34,
   "metadata": {
    "pycharm": {
     "is_executing": false
    }
   },
   "outputs": [
    {
     "data": {
      "image/png": "[encoded data removed]",
      "text/plain": [
       "<Figure size 1440x360 with 2 Axes>"
      ]
     },
     "metadata": {
      "needs_background": "light"
     },
     "output_type": "display_data"
    }
   ],
   "source": [
    "num_frames = 20000\n",
    "batch_size = 32\n",
    "gamma      = 0.99\n",
    "\n",
    "losses = []\n",
    "all_rewards = []\n",
    "episode_reward = 0\n",
    "\n",
    "state = env.reset()\n",
    "for frame_idx in range(1, num_frames + 1):\n",
    "    epsilon = epsilon_by_frame(frame_idx)\n",
    "    action = current_model_ddqn.act(state, epsilon)\n",
    "    \n",
    "    next_state, reward, done, _ = env.step(action)\n",
    "    replay_buffer.push(state, action, reward, next_state, done)\n",
    "    \n",
    "    state = next_state\n",
    "    episode_reward += reward\n",
    "    \n",
    "    if done:\n",
    "        state = env.reset()\n",
    "        all_rewards.append(episode_reward)\n",
    "        episode_reward = 0\n",
    "    if len(replay_buffer) > batch_size:\n",
    "        loss = compute_td_loss_doubleDQN(batch_size)\n",
    "        losses.append(loss.data)\n",
    "        \n",
    "    if frame_idx % 200 == 0:\n",
    "        plot(frame_idx, all_rewards, losses)\n",
    "        \n",
    "    if frame_idx % 200 == 0:\n",
    "        update_target(current_model_ddqn, target_model_ddqn)"
   ]
  },
  {
   "cell_type": "markdown",
   "metadata": {},
   "source": [
    "this model makes use of an aditional deep Q network, in order to combat overestimation. This happens due to us constantly taking the max of values, which automatically leads to overestimation. Since the updates of our models are based on these estimates, the bias introduced by considering the max could introduce some serious issues in the cases where the mean of the data is nowhere near that maximum.\n",
    "\n",
    "The result from this model is the best up until now. The reward per episode becomes almost stable, and the frequency of reward dips become small, however, the size of these dips remains big.\n",
    "\n",
    "In terms of finetuning, the only hyper parameter that was changed was the frames per target update, which was changed to 200. If this would not have yielded good enough results, I would have also changed the batch size, so that we can sample from a greater itemset, but as can be seen, the episodes are very stable, and the increase in computations due to the bigger sample size seems unnecassery."
   ]
  },
  {
   "cell_type": "markdown",
   "metadata": {},
   "source": [
    "### Dueling Deep Q Networks\n",
    "The key motivation behind this Dueling-DQN is that, for some problem statements, it is unnecessary to know the value of each action at every timestep. \n",
    "A simple example is of the Atari game Enduro, where it is not necessary to know which action to take until collision is imminent.\n",
    "\n",
    "<img src='assets/enduro.gif' width=50% />\n",
    "\n",
    "##### Architecture\n",
    "Like the standard DQN architecture, we have layers to process data. From there, we split the network into two separate streams, one for estimating the state-value and the other for estimating state-dependent action advantages. After the two streams, the last module of the network combines the state-value and advantage outputs.\n"
   ]
  },
  {
   "cell_type": "code",
   "execution_count": 35,
   "metadata": {
    "pycharm": {
     "is_executing": false
    }
   },
   "outputs": [],
   "source": [
    "class DuelingDQN(nn.Module):\n",
    "    def __init__(self, num_inputs, num_outputs):\n",
    "        super(DuelingDQN, self).__init__()\n",
    "        self.num_actions = num_outputs\n",
    "        \n",
    "        self.feature = nn.Sequential(\n",
    "            nn.Linear(num_inputs, 128),\n",
    "            nn.ReLU()\n",
    "        )\n",
    "        \n",
    "        self.advantage = nn.Sequential(\n",
    "            nn.Linear(128, 128),\n",
    "            nn.ReLU(),\n",
    "            nn.Linear(128, num_outputs)\n",
    "        )\n",
    "        \n",
    "        self.value = nn.Sequential(\n",
    "            nn.Linear(128, 128),\n",
    "            nn.ReLU(),\n",
    "            nn.Linear(128, 1)\n",
    "        )\n",
    "        \n",
    "    def forward(self, x):\n",
    "        x = self.feature(x)\n",
    "        advantage = self.advantage(x)\n",
    "        value     = self.value(x)\n",
    "        return value + advantage  - advantage.mean()\n",
    "    \n",
    "    def act(self, state, epsilon):\n",
    "        if random.random() > epsilon:\n",
    "            with torch.no_grad():\n",
    "                state   = Variable(torch.FloatTensor(state).unsqueeze(0))\n",
    "            q_value = self.forward(state)\n",
    "            action  = q_value.max(1)[1].data[0].cpu().numpy().tolist()\n",
    "        else:\n",
    "            action = random.randrange(self.num_actions)\n",
    "        return action"
   ]
  },
  {
   "cell_type": "code",
   "execution_count": 36,
   "metadata": {
    "pycharm": {
     "is_executing": false
    }
   },
   "outputs": [],
   "source": [
    "current_model_dueldqn = DuelingDQN(env.observation_space.shape[0], env.action_space.n)\n",
    "target_model_dueldqn  = DuelingDQN(env.observation_space.shape[0], env.action_space.n)\n",
    "\n",
    "if USE_CUDA:\n",
    "    current_model_dueldqn = current_model_dueldqn.cuda()\n",
    "    target_model_dueldqn  = target_model_dueldqn.cuda()\n",
    "    \n",
    "optimizer = optim.Adam(current_model_dueldqn.parameters())\n",
    "\n",
    "replay_buffer = ReplayBuffer(1000)"
   ]
  },
  {
   "cell_type": "markdown",
   "metadata": {},
   "source": [
    "#### Synchronize current policy net and target net"
   ]
  },
  {
   "cell_type": "code",
   "execution_count": 37,
   "metadata": {
    "pycharm": {
     "is_executing": false
    }
   },
   "outputs": [],
   "source": [
    "update_target(current_model_dueldqn, target_model_dueldqn)"
   ]
  },
  {
   "cell_type": "code",
   "execution_count": 38,
   "metadata": {
    "pycharm": {
     "is_executing": false
    }
   },
   "outputs": [],
   "source": [
    "def compute_td_loss_duelingDQN(batch_size):\n",
    "    state, action, reward, next_state, done = replay_buffer.sample(batch_size)\n",
    "\n",
    "    state      = Variable(torch.FloatTensor(np.float32(state)))\n",
    "    next_state = Variable(torch.FloatTensor(np.float32(next_state)))\n",
    "    action     = Variable(torch.LongTensor(action))\n",
    "    reward     = Variable(torch.FloatTensor(reward))\n",
    "    done       = Variable(torch.FloatTensor(done))\n",
    "    \n",
    "    # TODO: Predict q_values from current model\n",
    "    q_values = current_model_dueldqn.forward(state)\n",
    "    \n",
    "    # TODO: Predict q_values from target model\n",
    "    next_q_values = target_model_dueldqn.forward(next_state)\n",
    "    \n",
    "    # TODO: get q_values based on action from q_values\n",
    "    q_value  = q_values.gather(1, action.unsqueeze(1)).squeeze(1)\n",
    "    \n",
    "    # TODO: find maximum of next_q_values \n",
    "    # Hint: keep in mind its a batch process so find maximum in correct axis\n",
    "    next_q_value = next_q_values.max(1)[0]\n",
    "    \n",
    "    # TODO: calculate expected_q_value derived from bellman eq.\n",
    "    expected_q_value = reward + gamma * next_q_value * (1 - done)\n",
    "    \n",
    "    # TODO: calculate MSE between q_value and expected_q_value\n",
    "    loss = F.mse_loss(q_value, expected_q_value)\n",
    "        \n",
    "    optimizer.zero_grad()\n",
    "    loss.backward()\n",
    "    optimizer.step()\n",
    "    \n",
    "    return loss"
   ]
  },
  {
   "cell_type": "code",
   "execution_count": 40,
   "metadata": {
    "pycharm": {
     "is_executing": false
    }
   },
   "outputs": [
    {
     "data": {
      "image/png": "[encoded data removed]",
      "text/plain": [
       "<Figure size 1440x360 with 2 Axes>"
      ]
     },
     "metadata": {
      "needs_background": "light"
     },
     "output_type": "display_data"
    }
   ],
   "source": [
    "num_frames = 20000\n",
    "batch_size = 64\n",
    "gamma      = 0.99\n",
    "\n",
    "losses = []\n",
    "all_rewards = []\n",
    "episode_reward = 0\n",
    "\n",
    "state = env.reset()\n",
    "for frame_idx in range(1, num_frames + 1):\n",
    "    epsilon = epsilon_by_frame(frame_idx)\n",
    "    action = current_model_dueldqn.act(state, epsilon)\n",
    "    \n",
    "    next_state, reward, done, _ = env.step(action)\n",
    "    replay_buffer.push(state, action, reward, next_state, done)\n",
    "    \n",
    "    state = next_state\n",
    "    episode_reward += reward\n",
    "    \n",
    "    if done:\n",
    "        state = env.reset()\n",
    "        all_rewards.append(episode_reward)\n",
    "        episode_reward = 0\n",
    "        \n",
    "    if len(replay_buffer) > batch_size:\n",
    "        loss = compute_td_loss_duelingDQN(batch_size)\n",
    "        losses.append(loss.data)\n",
    "        \n",
    "    if frame_idx % 200 == 0:\n",
    "        plot(frame_idx, all_rewards, losses)\n",
    "        \n",
    "    if frame_idx % 100 == 0:\n",
    "        update_target(current_model_dueldqn, target_model_dueldqn)"
   ]
  },
  {
   "cell_type": "markdown",
   "metadata": {},
   "source": [
    "Dueling DQN implements a different formula to compute Q values. Instead of just computing Q based on one model, we will now compute Q based on the value of a state plus the advantage of the action that was taken to go towards that state. The general effect of this is that the overestimation decreases in size, which should improve the stability of a model.\n",
    "\n",
    "As can be seen from the plot displayed above, the model takes a bit longer to stablize as compared to the other models (which can be easily explained when considering the randomness involved in training models). The model remains at the max reward for each episode, and will not dip below from the point at which it becomes stable.\n",
    "\n",
    "To finetune this, I changed the batch size from 32 to 64. This seemed important as we want to properly compute the values and advantages. When I left the batch size at 32 I got very unstable results, and we can see an obvious improvement when looking at the plot above."
   ]
  },
  {
   "cell_type": "markdown",
   "metadata": {},
   "source": [
    "# Plot comparison of all agents"
   ]
  },
  {
   "cell_type": "code",
   "execution_count": 41,
   "metadata": {
    "pycharm": {
     "is_executing": false
    }
   },
   "outputs": [
    {
     "name": "stdout",
     "output_type": "stream",
     "text": [
      "testing Base DQN\n",
      "The mean score of your agent:  8.4\n",
      "testing buffer DQN\n",
      "The mean score of your agent:  186.43333333333334\n",
      "testing DQN with target network\n",
      "The mean score of your agent:  65.43333333333334\n",
      "testing DQN with target network and buffer\n",
      "The mean score of your agent:  198.0\n",
      "testing double DQN\n",
      "The mean score of your agent:  199.0\n",
      "testing Dueling DQN\n",
      "The mean score of your agent:  199.0\n"
     ]
    }
   ],
   "source": [
    "\"\"\"\n",
    "TODO: write a function to plot the performance of all previously discussed agents.\n",
    "Use test function to get their perform.\n",
    "\"\"\"\n",
    "\n",
    "# Base\n",
    "print(\"testing Base DQN\")\n",
    "base_rewards = test(env_id, model_base)\n",
    "\n",
    "print(\"testing buffer DQN\")\n",
    "batch_rewards = test(env_id, model_batch)\n",
    "\n",
    "print(\"testing DQN with target network\")\n",
    "target_rewards = test(env_id, current_model_target)\n",
    "\n",
    "print(\"testing DQN with target network and buffer\")\n",
    "target_dqn_rewards = test(env_id, current_model_dqn)\n",
    "\n",
    "print(\"testing double DQN\")\n",
    "double_dqn_rewards = test(env_id, current_model_ddqn)\n",
    "\n",
    "print(\"testing Dueling DQN\")\n",
    "dueling_dqn_rewards = test(env_id, current_model_dueldqn)"
   ]
  },
  {
   "cell_type": "markdown",
   "metadata": {
    "pycharm": {
     "is_executing": false,
     "name": "#%%\n"
    }
   },
   "source": [
    "As can be seen from the general overview displayed above, the experience replay is a necessity to properly train a model. The target network does help, as can be seen by the first model compared to the third model. But the target network is far from sufficient, as can be seen when comparing the third model with the second, fourth, sixth and seventh model. We can also see that there is little to no improvement in a trained model between the last three designs, which implies that the only difference between the three is the training itself."
   ]
  },
  {
   "cell_type": "markdown",
   "metadata": {},
   "source": [
    "## Playing atari Pong with Double DQN"
   ]
  },
  {
   "cell_type": "markdown",
   "metadata": {},
   "source": [
    "You have successfully completed the DQN, Now we'll step up the complexity of our **Environment**. <br>\n",
    "With Complex visual environment like *Space invaders*, We'll need to include following steps:\n",
    "* Pre-process the input\n",
    "* Make our NN more complex\n",
    "> * Pre-process the input: To reduce the complexity of our states, to reduce the computation time needed for training and thus to keep network shallow we pre-process each state(frame) to convert it from RGB to grey scale. By doing this we reduce the 3 color channels (RGB) to 1 Grey. \n",
    "then we crop the top of frame where we see the score for 2 reasons\n",
    "    * Score doesn't matter as we are getting reward from env, thus it's just something we don't need.\n",
    "    * Score keeps on changing which introduces extra complexity adds more number of states. A small change in pixels potentially means new state\n",
    "> * Make our NN more complex: We introduce CNNs to preprocess the information from states(frames). You can further read on internet the advantages of CNNs over Fully connected layer. It's out of scope for this lab session.\n",
    "\n",
    "The new architecture will look something like this:-\n",
    "<img src='assets/atari.png' width=50% />\n",
    "\n",
    "This may seem complex but it's really not. we'll walk through step by step.\n",
    "\n",
    "1) Preprocess frame\n",
    "\n",
    "2) stack 4 frames: We stack frame to limit the problem of temporal limitation. \n",
    "  >* Temporal limitation: By looking at following image can you tell if the ball in the game of pong going left or right?\n",
    "    <img src='assets/pong.png' width=50% /> <br>\n",
    "    Thus we stack 4 frames to get context. If it's going left or right.\n",
    "\n",
    "3) Stack CNN layers.\n",
    "\n",
    "The above presented architecture is just an example. The complexity of your network depends on the Environment.\n",
    "\n",
    "Different environment have different scoring system. To avoid having different architectures to play different games we often **clip rewards**."
   ]
  },
  {
   "cell_type": "code",
   "execution_count": 35,
   "metadata": {
    "pycharm": {
     "is_executing": true
    }
   },
   "outputs": [],
   "source": [
    "class ClipRewardEnv(gym.RewardWrapper):\n",
    "    def __init__(self, env):\n",
    "        gym.RewardWrapper.__init__(self, env)\n",
    "\n",
    "    def reward(self, reward):\n",
    "        \"\"\"Bin reward to {+1, 0, -1} by its sign.\"\"\"\n",
    "        return np.sign(reward)"
   ]
  },
  {
   "cell_type": "code",
   "execution_count": 36,
   "metadata": {
    "pycharm": {
     "is_executing": true
    }
   },
   "outputs": [],
   "source": [
    "class LazyFrames(object):\n",
    "    def __init__(self, frames):\n",
    "        \"\"\"This object ensures that common frames between the observations are only stored once.\n",
    "        It exists purely to optimize memory usage which can be huge for DQN's 1M frames replay\n",
    "        buffers.\n",
    "        This object should only be converted to numpy array before being passed to the model.\n",
    "        You'd not believe how complex the previous solution was.\"\"\"\n",
    "        self._frames = frames\n",
    "        self._out = None\n",
    "\n",
    "    def _force(self):\n",
    "        if self._out is None:\n",
    "            self._out = np.concatenate(self._frames, axis=2)\n",
    "            self._frames = None\n",
    "        return self._out\n",
    "\n",
    "    def __array__(self, dtype=None):\n",
    "        out = self._force()\n",
    "        if dtype is not None:\n",
    "            out = out.astype(dtype)\n",
    "        return out\n",
    "\n",
    "    def __len__(self):\n",
    "        return len(self._force())\n",
    "\n",
    "    def __getitem__(self, i):\n",
    "        return self._force()[i]"
   ]
  },
  {
   "cell_type": "code",
   "execution_count": 37,
   "metadata": {
    "pycharm": {
     "is_executing": true
    }
   },
   "outputs": [],
   "source": [
    "class FrameStack(gym.Wrapper):\n",
    "    def __init__(self, env, k):\n",
    "        \"\"\"Stack k last frames.\n",
    "        Returns lazy array, which is much more memory efficient.\n",
    "        See Also\n",
    "        --------\n",
    "        baselines.common.atari_wrappers.LazyFrames\n",
    "        \"\"\"\n",
    "        gym.Wrapper.__init__(self, env)\n",
    "        self.k = k\n",
    "        self.frames = deque([], maxlen=k)\n",
    "        shp = env.observation_space.shape\n",
    "        self.observation_space = gym.spaces.Box(low=0, high=255, shape=(shp[0], shp[1], shp[2] * k), dtype=np.uint8)\n",
    "\n",
    "    def reset(self):\n",
    "        ob = self.env.reset()\n",
    "        for _ in range(self.k):\n",
    "            self.frames.append(ob)\n",
    "        return self._get_ob()\n",
    "\n",
    "    def step(self, action):\n",
    "        ob, reward, done, info = self.env.step(action)\n",
    "        self.frames.append(ob)\n",
    "        return self._get_ob(), reward, done, info\n",
    "\n",
    "    def _get_ob(self):\n",
    "        assert len(self.frames) == self.k\n",
    "        return LazyFrames(list(self.frames))"
   ]
  },
  {
   "cell_type": "code",
   "execution_count": 38,
   "metadata": {
    "pycharm": {
     "is_executing": true
    }
   },
   "outputs": [],
   "source": [
    "class ScaledFloatFrame(gym.ObservationWrapper):\n",
    "    def __init__(self, env):\n",
    "        gym.ObservationWrapper.__init__(self, env)\n",
    "\n",
    "    def observation(self, observation):\n",
    "        # careful! This undoes the memory optimization, use\n",
    "        # with smaller replay buffers only.\n",
    "        return np.array(observation).astype(np.float32) / 255.0"
   ]
  },
  {
   "cell_type": "code",
   "execution_count": 39,
   "metadata": {
    "pycharm": {
     "is_executing": true
    }
   },
   "outputs": [],
   "source": [
    "class PreProcessFrame(gym.ObservationWrapper):\n",
    "    def __init__(self, env, cfg):\n",
    "        \"\"\"Warp frames to 84x84 as done in the Nature paper and later work.\"\"\"\n",
    "        gym.ObservationWrapper.__init__(self, env)\n",
    "        self.width = cfg.frame_width\n",
    "        self.height = cfg.frame_height\n",
    "        self.observation_space = gym.spaces.Box(low=0, high=255,\n",
    "            shape=(self.height, self.width, 1), dtype=np.uint8)\n",
    "\n",
    "    def observation(self, frame):\n",
    "        frame = cv2.cvtColor(frame, cv2.COLOR_RGB2GRAY)\n",
    "        frame = cv2.resize(frame, (self.width, self.height), interpolation=cv2.INTER_AREA)\n",
    "        return frame[:, :, None]\n"
   ]
  },
  {
   "cell_type": "code",
   "execution_count": 40,
   "metadata": {
    "pycharm": {
     "is_executing": true
    }
   },
   "outputs": [],
   "source": [
    "class ImageToPyTorch(gym.ObservationWrapper):\n",
    "    \"\"\"\n",
    "    Image shape to num_channels x weight x height\n",
    "    \"\"\"\n",
    "    def __init__(self, env):\n",
    "        super(ImageToPyTorch, self).__init__(env)\n",
    "        old_shape = self.observation_space.shape\n",
    "        self.observation_space = gym.spaces.Box(low=0.0, high=1.0, shape=(old_shape[-1], old_shape[0], old_shape[1]), dtype=np.uint8)\n",
    "\n",
    "    def observation(self, observation):\n",
    "        return np.swapaxes(observation, 2, 0)\n",
    "\n",
    "\n",
    "def convert_pytorch(env):\n",
    "    return ImageToPyTorch(env)"
   ]
  },
  {
   "cell_type": "code",
   "execution_count": 41,
   "metadata": {
    "pycharm": {
     "is_executing": true
    }
   },
   "outputs": [],
   "source": [
    "def wrap_env(env, cfg,clip_rewards=True, frame_stack=True, scale=True):\n",
    "    \"\"\"Configure environment for DeepMind-style Atari.\n",
    "    \"\"\"\n",
    "    env = PreProcessFrame(env, cfg)\n",
    "    if scale:\n",
    "        env = ScaledFloatFrame(env)\n",
    "    if clip_rewards:\n",
    "        env = ClipRewardEnv(env)\n",
    "    if frame_stack:\n",
    "        env = FrameStack(env, cfg.frame_number)\n",
    "    return env"
   ]
  },
  {
   "cell_type": "code",
   "execution_count": 42,
   "metadata": {
    "pycharm": {
     "is_executing": true
    }
   },
   "outputs": [],
   "source": [
    "class Config:\n",
    "    \"\"\"Config for environment\"\"\"\n",
    "    def __init__(self):\n",
    "        self.frame_number = 4\n",
    "        self.frame_width = 84\n",
    "        self.frame_height = 84\n",
    "        \n",
    "    def __setitem__(self, key, value):\n",
    "        return setattr(self, key, value)"
   ]
  },
  {
   "cell_type": "code",
   "execution_count": 43,
   "metadata": {
    "pycharm": {
     "is_executing": true
    },
    "scrolled": true
   },
   "outputs": [],
   "source": [
    "env_id = \"PongNoFrameskip-v4\"\n",
    "config = Config()"
   ]
  },
  {
   "cell_type": "code",
   "execution_count": 44,
   "metadata": {
    "pycharm": {
     "is_executing": true
    }
   },
   "outputs": [],
   "source": [
    "class Environment:\n",
    "    def __init__(self, env_id, config):\n",
    "        self.env = gym.make(env_id)\n",
    "        self.env = wrap_env(self.env, config)\n",
    "        self.env = convert_pytorch(self.env)\n",
    "        self.observation_space = self.env.observation_space\n",
    "        self.action_space = self.env.action_space\n",
    "        self.spec = self.env.spec\n",
    "        self.states = None\n",
    "\n",
    "    def reset(self):\n",
    "        self.states = self.env.reset()\n",
    "        return self.states\n",
    "\n",
    "    def step(self, a):\n",
    "        self.states, r, done, info = self.env.step(a)\n",
    "        return self.states, r, done, info\n",
    "\n",
    "    def render(self):\n",
    "        self.env.render()\n",
    "\n",
    "    def close(self):\n",
    "        self.env.close()"
   ]
  },
  {
   "cell_type": "code",
   "execution_count": 45,
   "metadata": {
    "pycharm": {
     "is_executing": true
    }
   },
   "outputs": [],
   "source": [
    "class CnnDQN(nn.Module):\n",
    "    def __init__(self, input_shape, num_actions):\n",
    "        super(CnnDQN, self).__init__()\n",
    "        \n",
    "        self.input_shape = input_shape\n",
    "        self.num_actions = num_actions\n",
    "        \n",
    "        self.features = nn.Sequential(\n",
    "            nn.Conv2d(input_shape[0], 32, kernel_size=8, stride=4),\n",
    "            nn.ReLU(),\n",
    "            nn.Conv2d(32, 64, kernel_size=4, stride=2),\n",
    "            nn.ReLU(),\n",
    "            nn.Conv2d(64, 64, kernel_size=3, stride=1),\n",
    "            nn.ReLU()\n",
    "        )\n",
    "        \n",
    "        self.fc = nn.Sequential(\n",
    "            nn.Linear(self.feature_size(), 512),\n",
    "            nn.ReLU(),\n",
    "            nn.Linear(512, self.num_actions)\n",
    "        )\n",
    "        \n",
    "    def forward(self, x):\n",
    "        x = self.features(x)\n",
    "        x = x.view(x.size(0), -1)\n",
    "        x = self.fc(x)\n",
    "        return x\n",
    "    \n",
    "    def feature_size(self):\n",
    "        return self.features(autograd.Variable(torch.zeros(1, *self.input_shape))).view(1, -1).size(1)\n",
    "    \n",
    "    def act(self, state, epsilon):\n",
    "        if random.random() > epsilon:\n",
    "            with torch.no_grad():\n",
    "                state   = Variable(torch.FloatTensor(np.float32(state)).unsqueeze(0))\n",
    "            q_value = self.forward(state)\n",
    "            action  = q_value.max(1)[1].data\n",
    "        else:\n",
    "            action = random.randrange(env.action_space.n)\n",
    "        return action"
   ]
  },
  {
   "cell_type": "code",
   "execution_count": 46,
   "metadata": {
    "pycharm": {
     "is_executing": true
    },
    "scrolled": true
   },
   "outputs": [],
   "source": [
    "env = Environment(env_id=env_id, config=config)\n",
    "current_model = CnnDQN(env.observation_space.shape, env.action_space.n)\n",
    "target_model  = CnnDQN(env.observation_space.shape, env.action_space.n)\n",
    "\n",
    "if USE_CUDA:\n",
    "    current_model = current_model.cuda()\n",
    "    target_model  = target_model.cuda()\n",
    "    \n",
    "optimizer = optim.Adam(current_model.parameters(), lr=0.0001)\n",
    "\n",
    "replay_initial = 1000\n",
    "replay_buffer = ReplayBuffer(10000)\n",
    "\n",
    "update_target(current_model, target_model)"
   ]
  },
  {
   "cell_type": "code",
   "execution_count": 47,
   "metadata": {
    "pycharm": {
     "is_executing": true
    }
   },
   "outputs": [],
   "source": [
    "epsilon_start = 1.0\n",
    "epsilon_final = 0.01\n",
    "epsilon_decay = 30000\n",
    "\n",
    "epsilon_by_frame = lambda frame_idx: epsilon_final + (epsilon_start - epsilon_final) * math.exp(-1. * frame_idx / epsilon_decay)"
   ]
  },
  {
   "cell_type": "code",
   "execution_count": 48,
   "metadata": {},
   "outputs": [],
   "source": [
    "def compute_td_loss_target_batch(batch_size):\n",
    "    state, action, reward, next_state, done = replay_buffer.sample(batch_size)\n",
    "\n",
    "    state      = Variable(torch.FloatTensor(np.float32(state)))\n",
    "    next_state = Variable(torch.FloatTensor(np.float32(next_state)))\n",
    "    action     = Variable(torch.LongTensor(action))\n",
    "    reward     = Variable(torch.FloatTensor(reward))\n",
    "    done       = Variable(torch.FloatTensor(done))\n",
    "\n",
    "    # Hint:- most of the operations should be similar to previous impletations.\n",
    "    \n",
    "    #TODO:- predict q_values.\n",
    "    q_values = current_model.forward(state)\n",
    "    \n",
    "    # TODO:- predict next states's q_values based on target.\n",
    "    next_q_values = target_model.forward(next_state)\n",
    "    \n",
    "    # TODO:- Get q-values for actions agent took.\n",
    "    q_value = q_values.gather(1, action.long().unsqueeze(1)).squeeze(1)\n",
    "    \n",
    "    # TODO:- gather maximum of next q_values  \n",
    "    next_q_value = next_q_values.max(1)[0]\n",
    "    \n",
    "    # TODO:- calculate expected q value based on bellman eq.\n",
    "    expected_q_value = reward + gamma * next_q_value * (1 - done)\n",
    "      \n",
    "    # TODO MSE\n",
    "    loss = F.mse_loss(q_value, expected_q_value)\n",
    "        \n",
    "    optimizer.zero_grad()\n",
    "    loss.backward()\n",
    "    optimizer.step()\n",
    "    \n",
    "    return loss"
   ]
  },
  {
   "cell_type": "code",
   "execution_count": 49,
   "metadata": {
    "pycharm": {
     "is_executing": false
    }
   },
   "outputs": [
    {
     "data": {
      "image/png": "[encoded data removed]",
      "text/plain": [
       "<Figure size 1440x360 with 2 Axes>"
      ]
     },
     "metadata": {
      "needs_background": "light"
     },
     "output_type": "display_data"
    }
   ],
   "source": [
    "num_frames = 1000000\n",
    "batch_size = 64\n",
    "gamma      = 0.99\n",
    "\n",
    "losses = []\n",
    "all_rewards = []\n",
    "episode_reward = 0\n",
    "\n",
    "state = env.reset()\n",
    "for frame_idx in range(1, num_frames + 1):\n",
    "    epsilon = epsilon_by_frame(frame_idx)\n",
    "    action = current_model.act(state, epsilon)\n",
    "    \n",
    "    next_state, reward, done, _ = env.step(action)\n",
    "    replay_buffer.push(state, action, reward, next_state, done)\n",
    "    \n",
    "    state = next_state\n",
    "    episode_reward += reward\n",
    "    \n",
    "    if done:\n",
    "        state = env.reset()\n",
    "        all_rewards.append(episode_reward)\n",
    "        episode_reward = 0\n",
    "        \n",
    "    if len(replay_buffer) > replay_initial:\n",
    "        # TODO:- Based on Td_loss functions you have worked with write or\n",
    "        # choose a function to reuse here and justify your choice\n",
    "        loss = compute_td_loss_target_batch(env.observation_space.shape[1])\n",
    "        losses.append(loss.data)\n",
    "        \n",
    "    if frame_idx % 10000 == 0:\n",
    "        plot(frame_idx, all_rewards, losses)\n",
    "        \n",
    "    if frame_idx % 1000 == 0:\n",
    "        update_target(current_model, target_model)"
   ]
  },
  {
   "cell_type": "markdown",
   "source": [
    "For this one I initialy decided to test all three well performing cost functions (being the target + batch model, the double DQN model and the dueling DQN model). However, there was no difference between the three whatshowever, nor was the model learning anything. I decided to tune the number of frames and the batch size, and ran it again. This run took about 8 hours to complete, and I therefore decided to leave it like this.\n",
    "\n",
    "My conclusions were that the three cost models performed equally well. None of the three performed greatly, as we were never able to obtain a positive average reward. However, when looking at different simulations of the same environment, many other implementaions gave equal results to these, it takes a very long time to train a model properly and it is not impossible that the model would still converge eventually\n",
    "\n",
    "Something else that could need some tuning are the epsilon greedy hyper parameters. As it now stands, the epsilon greedy algorithm will convert far too quickly to the exploitation fase, while it should still be exploring. However, since I only thought about this after 5 hours of runtime, I decided to leave this as is. Something else that could also be explored is a further increase of batch size, as this might make the model learn faster and/or decrease the chance for the model to get stuck at a certain policy, as can be seen in the plot."
   ],
   "metadata": {
    "collapsed": false
   }
  },
  {
   "cell_type": "markdown",
   "metadata": {},
   "source": []
  },
  {
   "cell_type": "code",
   "execution_count": null,
   "metadata": {},
   "outputs": [],
   "source": []
  }
 ],
 "metadata": {
  "kernelspec": {
   "display_name": "Python 3",
   "language": "python",
   "name": "python3"
  },
  "language_info": {
   "codemirror_mode": {
    "name": "ipython",
    "version": 3
   },
   "file_extension": ".py",
   "mimetype": "text/x-python",
   "name": "python",
   "nbconvert_exporter": "python",
   "pygments_lexer": "ipython3",
   "version": "3.7.1"
  },
  "pycharm": {
   "stem_cell": {
    "cell_type": "raw",
    "source": [],
    "metadata": {
     "collapsed": false
    }
   }
  }
 },
 "nbformat": 4,
 "nbformat_minor": 4
}